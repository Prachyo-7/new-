{
  "nbformat": 4,
  "nbformat_minor": 0,
  "metadata": {
    "colab": {
      "provenance": [],
      "authorship_tag": "ABX9TyNV2ZV6uG8LmVxcpD/1OAqr",
      "include_colab_link": true
    },
    "kernelspec": {
      "name": "python3",
      "display_name": "Python 3"
    },
    "language_info": {
      "name": "python"
    }
  },
  "cells": [
    {
      "cell_type": "markdown",
      "metadata": {
        "id": "view-in-github",
        "colab_type": "text"
      },
      "source": [
        "<a href=\"https://colab.research.google.com/github/Prachyo-7/new-/blob/main/prachyo_task3.ipynb\" target=\"_parent\"><img src=\"https://colab.research.google.com/assets/colab-badge.svg\" alt=\"Open In Colab\"/></a>"
      ]
    },
    {
      "cell_type": "markdown",
      "source": [],
      "metadata": {
        "id": "fYsfuii9M8r6"
      }
    },
    {
      "cell_type": "markdown",
      "source": [
        "Create a simple recommendation system that suggests items to\n",
        "users based on their preferences. You can use techniques like\n",
        "collaborative filtering or content-based filtering to recommend\n",
        "movies, books, or products to users."
      ],
      "metadata": {
        "id": "gvleIlLRNG-U"
      }
    },
    {
      "cell_type": "code",
      "source": [
        "import pandas as pd\n",
        "\n",
        "# Example data: Movies and their genres\n",
        "movies = pd.DataFrame({\n",
        "    'Movie': ['Titanic', 'Avatar', 'Inception', 'Matrix'],\n",
        "    'Genre': ['Romance', 'Sci-Fi', 'Sci-Fi', 'Action']\n",
        "})\n",
        "\n",
        "# Example user profile indicating a preference for genres\n",
        "user_profile = pd.Series({'Romance': 1, 'Sci-Fi': 5, 'Action': 2})\n",
        "\n",
        "# Calculate movie recommendations based on genre matching with user profile\n",
        "movies['Recommendation_Score'] = movies['Genre'].map(lambda genre: user_profile[genre])\n",
        "\n",
        "# Sort movies by recommendation score\n",
        "recommendations = movies.sort_values(by='Recommendation_Score', ascending=False)\n",
        "\n",
        "print(\"Content-Based Recommendations:\")\n",
        "print(recommendations[['Movie', 'Recommendation_Score']])\n"
      ],
      "metadata": {
        "colab": {
          "base_uri": "https://localhost:8080/"
        },
        "id": "CCcuAGIlMq2T",
        "outputId": "aa945807-26a6-4849-f8dd-53ba0c8c4b37"
      },
      "execution_count": 5,
      "outputs": [
        {
          "output_type": "stream",
          "name": "stdout",
          "text": [
            "Content-Based Recommendations:\n",
            "       Movie  Recommendation_Score\n",
            "1     Avatar                     5\n",
            "2  Inception                     5\n",
            "3     Matrix                     2\n",
            "0    Titanic                     1\n"
          ]
        }
      ]
    }
  ]
}