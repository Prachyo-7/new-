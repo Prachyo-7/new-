{
  "nbformat": 4,
  "nbformat_minor": 0,
  "metadata": {
    "colab": {
      "provenance": [],
      "authorship_tag": "ABX9TyNe4D/jeuNdnZ5j7a63CVXR",
      "include_colab_link": true
    },
    "kernelspec": {
      "name": "python3",
      "display_name": "Python 3"
    },
    "language_info": {
      "name": "python"
    }
  },
  "cells": [
    {
      "cell_type": "markdown",
      "metadata": {
        "id": "view-in-github",
        "colab_type": "text"
      },
      "source": [
        "<a href=\"https://colab.research.google.com/github/Prachyo-7/new-/blob/main/prachyo_task2.ipynb\" target=\"_parent\"><img src=\"https://colab.research.google.com/assets/colab-badge.svg\" alt=\"Open In Colab\"/></a>"
      ]
    },
    {
      "cell_type": "code",
      "source": [],
      "metadata": {
        "id": "nYpWSaibIhOb"
      },
      "execution_count": null,
      "outputs": []
    },
    {
      "cell_type": "markdown",
      "source": [
        "Implement an AI agent that plays the classic game of Tic-Tac-Toe\n",
        "against a human player. You can use algorithms like Minimax with\n",
        "or without Alpha-Beta Pruning to make the AI player unbeatable.\n",
        "This project will help you understand game theory and basic search\n",
        "algorithms.\n"
      ],
      "metadata": {
        "id": "-LunXo82Io7J"
      }
    },
    {
      "cell_type": "markdown",
      "source": [],
      "metadata": {
        "id": "JJ3sPJTTIlsN"
      }
    },
    {
      "cell_type": "code",
      "source": [
        "# Define the Tic-Tac-Toe board\n",
        "def print_board(board):\n",
        "    print(f\"{board[0]} | {board[1]} | {board[2]}\")\n",
        "    print(\"--+---+--\")\n",
        "    print(f\"{board[3]} | {board[4]} | {board[5]}\")\n",
        "    print(\"--+---+--\")\n",
        "    print(f\"{board[6]} | {board[7]} | {board[8]}\")\n",
        "    print()\n",
        "\n",
        "# Check for a win\n",
        "def check_win(board, player):\n",
        "    win_conditions = [(0, 1, 2), (3, 4, 5), (6, 7, 8),\n",
        "                      (0, 3, 6), (1, 4, 7), (2, 5, 8),\n",
        "                      (0, 4, 8), (2, 4, 6)]\n",
        "    return any(board[a] == board[b] == board[c] == player for a, b, c in win_conditions)\n",
        "\n",
        "# Check for a draw\n",
        "def check_draw(board):\n",
        "    return ' ' not in board\n",
        "\n",
        "# Minimax algorithm\n",
        "def minimax(board, depth, is_maximizing):\n",
        "    if check_win(board, 'O'):\n",
        "        return 1\n",
        "    if check_win(board, 'X'):\n",
        "        return -1\n",
        "    if check_draw(board):\n",
        "        return 0\n",
        "\n",
        "    if is_maximizing:\n",
        "        best_score = -float('inf')\n",
        "        for i in range(9):\n",
        "            if board[i] == ' ':\n",
        "                board[i] = 'O'\n",
        "                score = minimax(board, depth + 1, False)\n",
        "                board[i] = ' '\n",
        "                best_score = max(score, best_score)\n",
        "        return best_score\n",
        "    else:\n",
        "        best_score = float('inf')\n",
        "        for i in range(9):\n",
        "            if board[i] == ' ':\n",
        "                board[i] = 'X'\n",
        "                score = minimax(board, depth + 1, True)\n",
        "                board[i] = ' '\n",
        "                best_score = min(score, best_score)\n",
        "        return best_score\n",
        "\n",
        "# AI move using Minimax\n",
        "def ai_move(board):\n",
        "    best_score = -float('inf')\n",
        "    move = 0\n",
        "    for i in range(9):\n",
        "        if board[i] == ' ':\n",
        "            board[i] = 'O'\n",
        "            score = minimax(board, 0, False)\n",
        "            board[i] = ' '\n",
        "            if score > best_score:\n",
        "                best_score = score\n",
        "                move = i\n",
        "    board[move] = 'O'\n",
        "\n",
        "# Main game loop\n",
        "def play_game():\n",
        "    board = [' ' for _ in range(9)]\n",
        "    print_board(board)\n",
        "\n",
        "    while True:\n",
        "        # Human move\n",
        "        human_move = int(input(\"Enter your move (0-8): \"))\n",
        "        if board[human_move] != ' ':\n",
        "            print(\"Invalid move. Try again.\")\n",
        "            continue\n",
        "        board[human_move] = 'X'\n",
        "        print_board(board)\n",
        "\n",
        "        if check_win(board, 'X'):\n",
        "            print(\"You win!\")\n",
        "            break\n",
        "        if check_draw(board):\n",
        "            print(\"It's a draw!\")\n",
        "            break\n",
        "\n",
        "        # AI move\n",
        "        ai_move(board)\n",
        "        print(\"AI move:\")\n",
        "        print_board(board)\n",
        "\n",
        "        if check_win(board, 'O'):\n",
        "            print(\"AI wins!\")\n",
        "            break\n",
        "        if check_draw(board):\n",
        "            print(\"It's a draw!\")\n",
        "            break\n",
        "\n",
        "# Start the game\n",
        "play_game()\n"
      ],
      "metadata": {
        "colab": {
          "base_uri": "https://localhost:8080/"
        },
        "id": "F55MqncKIrVU",
        "outputId": "b5825459-cea5-4196-e2e7-442589877844"
      },
      "execution_count": null,
      "outputs": [
        {
          "output_type": "stream",
          "name": "stdout",
          "text": [
            "  |   |  \n",
            "--+---+--\n",
            "  |   |  \n",
            "--+---+--\n",
            "  |   |  \n",
            "\n",
            "Enter your move (0-8): 1\n",
            "  | X |  \n",
            "--+---+--\n",
            "  |   |  \n",
            "--+---+--\n",
            "  |   |  \n",
            "\n",
            "AI move:\n",
            "O | X |  \n",
            "--+---+--\n",
            "  |   |  \n",
            "--+---+--\n",
            "  |   |  \n",
            "\n",
            "Enter your move (0-8): 3\n",
            "O | X |  \n",
            "--+---+--\n",
            "X |   |  \n",
            "--+---+--\n",
            "  |   |  \n",
            "\n",
            "AI move:\n",
            "O | X |  \n",
            "--+---+--\n",
            "X | O |  \n",
            "--+---+--\n",
            "  |   |  \n",
            "\n",
            "Enter your move (0-8): 4\n",
            "Invalid move. Try again.\n"
          ]
        }
      ]
    },
    {
      "cell_type": "code",
      "source": [],
      "metadata": {
        "id": "G9y12ZnTIwUt"
      },
      "execution_count": null,
      "outputs": []
    }
  ]
}