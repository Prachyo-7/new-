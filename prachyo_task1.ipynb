{
  "nbformat": 4,
  "nbformat_minor": 0,
  "metadata": {
    "colab": {
      "provenance": [],
      "authorship_tag": "ABX9TyMubKdAyuYdx09qdfdAMqfn",
      "include_colab_link": true
    },
    "kernelspec": {
      "name": "python3",
      "display_name": "Python 3"
    },
    "language_info": {
      "name": "python"
    }
  },
  "cells": [
    {
      "cell_type": "markdown",
      "metadata": {
        "id": "view-in-github",
        "colab_type": "text"
      },
      "source": [
        "<a href=\"https://colab.research.google.com/github/Prachyo-7/new-/blob/main/prachyo_task1.ipynb\" target=\"_parent\"><img src=\"https://colab.research.google.com/assets/colab-badge.svg\" alt=\"Open In Colab\"/></a>"
      ]
    },
    {
      "cell_type": "code",
      "execution_count": null,
      "metadata": {
        "id": "DrngiAMw_uGr"
      },
      "outputs": [],
      "source": []
    },
    {
      "cell_type": "markdown",
      "source": [
        "Build a simple chatbot that responds to user inputs based on\n",
        "predefined rules. Use if-else statements or pattern matching\n",
        "techniques to identify user queries and provide appropriate\n",
        "responses. This will give you a basic understanding of natural\n",
        "language processing and conversation flow."
      ],
      "metadata": {
        "id": "eazTz0WO_vdF"
      }
    },
    {
      "cell_type": "code",
      "source": [
        "def chatbot():\n",
        "    print(\"Hello! I'm your friendly chatbot. How can I assist you today?\")\n",
        "\n",
        "    while True:\n",
        "        user_input = input(\"You: \").lower()\n",
        "\n",
        "        if \"hello\" in user_input or \"hi\" in user_input:\n",
        "            print(\"Chatbot: Hello! How can I help you today?\")\n",
        "\n",
        "        elif \"your name\" in user_input:\n",
        "            print(\"Chatbot: I'm just a simple chatbot with no name!\")\n",
        "\n",
        "        elif \"how are you\" in user_input:\n",
        "            print(\"Chatbot: I'm just a bunch of code, so I don't have feelings, but thank you for asking!\")\n",
        "\n",
        "        elif \"bye\" in user_input or \"exit\" in user_input:\n",
        "            print(\"Chatbot: Goodbye! Have a great day!\")\n",
        "            break\n",
        "\n",
        "        else:\n",
        "            print(\"Chatbot: I'm sorry, I don't understand that. Can you please rephrase?\")\n",
        "\n",
        "# Run the chatbot\n",
        "chatbot()\n"
      ],
      "metadata": {
        "colab": {
          "base_uri": "https://localhost:8080/"
        },
        "id": "j9slluvx_5DJ",
        "outputId": "9fa86eb7-da87-4f6f-bbfa-c1e2656268ce"
      },
      "execution_count": null,
      "outputs": [
        {
          "output_type": "stream",
          "name": "stdout",
          "text": [
            "Hello! I'm your friendly chatbot. How can I assist you today?\n",
            "You: hi\n",
            "Chatbot: Hello! How can I help you today?\n"
          ]
        }
      ]
    },
    {
      "cell_type": "code",
      "source": [],
      "metadata": {
        "id": "JFBhM4gFAazN"
      },
      "execution_count": null,
      "outputs": []
    }
  ]
}